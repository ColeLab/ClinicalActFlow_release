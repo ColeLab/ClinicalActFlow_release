{
 "cells": [
  {
   "cell_type": "markdown",
   "metadata": {},
   "source": [
    "# Supplemental analysis - including all regions of interest in activity flow estimate"
   ]
  },
  {
   "cell_type": "code",
   "execution_count": 1,
   "metadata": {},
   "outputs": [
    {
     "name": "stderr",
     "output_type": "stream",
     "text": [
      "/projects/f_mc1689_1/AnalysisTools/anaconda3/lib/python3.7/site-packages/dask/config.py:168: YAMLLoadWarning: calling yaml.load() without Loader=... is deprecated, as the default Loader is unsafe. Please read https://msg.pyyaml.org/load for full details.\n",
      "  data = yaml.load(f.read()) or {}\n",
      "/projects/f_mc1689_1/AnalysisTools/anaconda3/lib/python3.7/site-packages/distributed/config.py:20: YAMLLoadWarning: calling yaml.load() without Loader=... is deprecated, as the default Loader is unsafe. Please read https://msg.pyyaml.org/load for full details.\n",
      "  defaults = yaml.load(f)\n",
      "/home/ljh118/.local/lib/python3.7/site-packages/outdated/utils.py:18: OutdatedPackageWarning: The package pingouin is out of date. Your version is 0.3.2, the latest is 0.3.8.\n",
      "Set the environment variable OUTDATED_IGNORE=1 to disable these warnings.\n",
      "  **kwargs\n"
     ]
    }
   ],
   "source": [
    "import numpy as np\n",
    "import pandas as pd\n",
    "import functions as mf # my functions\n",
    "from scipy import stats\n",
    "import pingouin as pg\n",
    "#from statsmodels.stats.multitest import multipletests\n",
    "\n",
    "## critical variables\n",
    "# parcellation\n",
    "PARC = 'cabn'\n",
    "\n",
    "# subjects\n",
    "subj_df = pd.read_csv('subject_list.txt', sep='\\t', index_col = 0, header = 0)\n",
    "\n",
    "# out directories\n",
    "results_dir = '/projects/f_mc1689_1/ClinicalActFlow/data/results/N=93/'\n",
    "figure_dir = '/projects/f_mc1689_1/ClinicalActFlow/docs/figures/N=93/'\n",
    "\n",
    "# which connectivity type to use\n",
    "fc_task = 'multitask-no-scap'\n",
    "fc_method = 'pc_multregconn_100'\n",
    "\n",
    "# task to analyze\n",
    "task = 'scap'\n",
    "\n",
    "# groups to analyze\n",
    "groups = ['CTRL','SCHZ']"
   ]
  },
  {
   "cell_type": "markdown",
   "metadata": {},
   "source": [
    "# Prep data"
   ]
  },
  {
   "cell_type": "code",
   "execution_count": 2,
   "metadata": {},
   "outputs": [
    {
     "name": "stdout",
     "output_type": "stream",
     "text": [
      "Task| multitask-no-scap Data loaded: 100.0 %\n"
     ]
    }
   ],
   "source": [
    "#load activations\n",
    "activity,activity_all = mf.load_activity(subj_df,PARC=PARC,TASKS=[task])\n",
    "network_order,_,network_def,networks = mf.get_network_info(PARC)\n",
    "n_roi = activity['scap']['CTRL'].shape[0]\n",
    "\n",
    "# load fc data\n",
    "fc,fc_all = mf.load_fc(subj_df,TASKS=[fc_task],PARC=PARC,fc_method=fc_method)\n",
    "network_order,network_cols,network_def,networks = mf.get_network_info(PARC,subcortical_split=True)"
   ]
  },
  {
   "cell_type": "markdown",
   "metadata": {},
   "source": [
    "# Run actflow without holding out any regions"
   ]
  },
  {
   "cell_type": "code",
   "execution_count": 3,
   "metadata": {},
   "outputs": [
    {
     "name": "stdout",
     "output_type": "stream",
     "text": [
      "Running act flow in CTRL\n",
      "Running act flow in SCHZ\n",
      "Actflow finished\n"
     ]
    }
   ],
   "source": [
    "# generate activity flow predictions seperately in each group\n",
    "task = 'scap'\n",
    "af_file = 'actflow-' + fc_task + '-' + fc_method + '.pickle'\n",
    "\n",
    "predicted_activity = {}\n",
    "predicted_activity[task] = {}\n",
    "actFlowWeights = {}\n",
    "actFlowWeights[task] = {}\n",
    "\n",
    "for group in ['CTRL','SCHZ']:\n",
    "    print('Running act flow in',group)\n",
    "    fc_data = fc[fc_task][group].copy()\n",
    "\n",
    "    actPredVector = np.zeros((np.shape(activity[task][group])))\n",
    "    n_nodes =  np.shape(actPredVector)[0]\n",
    "    n_conditions = np.shape(actPredVector)[1]\n",
    "    n_subs = np.shape(actPredVector)[2]\n",
    "    act_weights_mat = np.zeros((n_nodes,n_nodes,n_conditions,n_subs))\n",
    "\n",
    "    for condition in range(n_conditions):\n",
    "        act_data = activity[task][group][:,condition,:].copy()\n",
    "\n",
    "        for subj in range(np.shape(fc_data)[2]):\n",
    "            actPredVector[:,condition,subj],act_weights_mat[:,:,condition,subj] = mf.actflowcalc_hold_out_roi(act_data[:,subj],fc_data[:,:,subj])\n",
    "\n",
    "    predicted_activity[task][group] = actPredVector\n",
    "    actFlowWeights[task][group] = act_weights_mat\n",
    "\n",
    "print('Actflow finished')"
   ]
  },
  {
   "cell_type": "markdown",
   "metadata": {},
   "source": [
    "## Perform stats as usual"
   ]
  },
  {
   "cell_type": "code",
   "execution_count": 5,
   "metadata": {},
   "outputs": [
    {
     "name": "stdout",
     "output_type": "stream",
     "text": [
      "Mean r across subjs: 0.632 |1samp t: 57.37 p: 0.0\n",
      "Mean MAE  across subjs: 0.619\n",
      "Mean MAPE  across subjs: 357.226\n",
      "Mean R^2  across subjs: 0.395 |1samp t: 26.05 p: 0.0\n",
      "Mean r across subjs: 0.6 |1samp t: 31.41 p: 0.0\n",
      "Mean MAE  across subjs: 0.606\n",
      "Mean MAPE  across subjs: 420.539\n",
      "Mean R^2  across subjs: 0.352 |1samp t: 13.6 p: 0.0\n",
      "between groups: r t-test\n",
      "\t Ttest_indResult(statistic=1.476369251021821, pvalue=0.14510086571181408)\n",
      "between groups: MAE t-test\n",
      "\t Ttest_indResult(statistic=0.5857193234237867, pvalue=0.5606582862776508)\n",
      "between groups: Rsqr t-test\n",
      "\t Ttest_indResult(statistic=1.4548232159257706, pvalue=0.1508833688116412)\n"
     ]
    }
   ],
   "source": [
    "from scipy.stats import ttest_ind\n",
    "# do stats on the activity flow predictions\n",
    "r = {}\n",
    "MAE = {}\n",
    "MAPE = {}\n",
    "Rsqr = {}\n",
    "for group in ['CTRL','SCHZ']:\n",
    "    # do the same contrast\n",
    "    real = np.mean(activity['scap'][group][:,6:12,:],axis=1) - np.mean(activity['scap'][group][:,0:6,:],axis=1)\n",
    "    pred = np.mean(predicted_activity['scap'][group][:,6:12,:],axis=1) - np.mean(predicted_activity['scap'][group][:,0:6,:],axis=1)\n",
    "    \n",
    "    # do actflow statistics\n",
    "    r[group] = []\n",
    "    MAE[group] = []\n",
    "    MAPE[group] = []\n",
    "    Rsqr[group] = []\n",
    "    r[group],rs,MAE[group],MAPE[group],Rsqr[group] = mf.actflow_tests(real,pred,normalise=False)\n",
    "    \n",
    "# compare the groups\n",
    "print('between groups: r t-test')\n",
    "print('\\t',ttest_ind(r['CTRL'],r['SCHZ'],equal_var=False))\n",
    "print('between groups: MAE t-test')\n",
    "print('\\t',ttest_ind(MAE['CTRL'],MAE['SCHZ'],equal_var=False))\n",
    "print('between groups: Rsqr t-test')\n",
    "print('\\t',ttest_ind(Rsqr['CTRL'],Rsqr['SCHZ'],equal_var=False))"
   ]
  },
  {
   "cell_type": "markdown",
   "metadata": {},
   "source": [
    "# target region results"
   ]
  },
  {
   "cell_type": "code",
   "execution_count": 8,
   "metadata": {},
   "outputs": [],
   "source": [
    "from statsmodels.stats.multitest import multipletests\n",
    "\n",
    "#defined in actual dataset\n",
    "roi_list = [56, 181, 284, 346] "
   ]
  },
  {
   "cell_type": "code",
   "execution_count": 9,
   "metadata": {},
   "outputs": [
    {
     "data": {
      "text/html": [
       "<div>\n",
       "<style scoped>\n",
       "    .dataframe tbody tr th:only-of-type {\n",
       "        vertical-align: middle;\n",
       "    }\n",
       "\n",
       "    .dataframe tbody tr th {\n",
       "        vertical-align: top;\n",
       "    }\n",
       "\n",
       "    .dataframe thead th {\n",
       "        text-align: right;\n",
       "    }\n",
       "</style>\n",
       "<table border=\"1\" class=\"dataframe\">\n",
       "  <thead>\n",
       "    <tr style=\"text-align: right;\">\n",
       "      <th></th>\n",
       "      <th>T</th>\n",
       "      <th>dof</th>\n",
       "      <th>tail</th>\n",
       "      <th>p-val</th>\n",
       "      <th>CI95%</th>\n",
       "      <th>cohen-d</th>\n",
       "      <th>BF10</th>\n",
       "      <th>power</th>\n",
       "    </tr>\n",
       "  </thead>\n",
       "  <tbody>\n",
       "    <tr>\n",
       "      <th>T-test</th>\n",
       "      <td>-3.084</td>\n",
       "      <td>95.2</td>\n",
       "      <td>two-sided</td>\n",
       "      <td>0.003</td>\n",
       "      <td>[-0.56, -0.12]</td>\n",
       "      <td>0.509</td>\n",
       "      <td>13.276</td>\n",
       "      <td>0.73</td>\n",
       "    </tr>\n",
       "  </tbody>\n",
       "</table>\n",
       "</div>"
      ],
      "text/plain": [
       "            T   dof       tail  p-val           CI95%  cohen-d    BF10  power\n",
       "T-test -3.084  95.2  two-sided  0.003  [-0.56, -0.12]    0.509  13.276   0.73"
      ]
     },
     "metadata": {},
     "output_type": "display_data"
    },
    {
     "data": {
      "text/html": [
       "<div>\n",
       "<style scoped>\n",
       "    .dataframe tbody tr th:only-of-type {\n",
       "        vertical-align: middle;\n",
       "    }\n",
       "\n",
       "    .dataframe tbody tr th {\n",
       "        vertical-align: top;\n",
       "    }\n",
       "\n",
       "    .dataframe thead th {\n",
       "        text-align: right;\n",
       "    }\n",
       "</style>\n",
       "<table border=\"1\" class=\"dataframe\">\n",
       "  <thead>\n",
       "    <tr style=\"text-align: right;\">\n",
       "      <th></th>\n",
       "      <th>T</th>\n",
       "      <th>dof</th>\n",
       "      <th>tail</th>\n",
       "      <th>p-val</th>\n",
       "      <th>CI95%</th>\n",
       "      <th>cohen-d</th>\n",
       "      <th>BF10</th>\n",
       "      <th>power</th>\n",
       "    </tr>\n",
       "  </thead>\n",
       "  <tbody>\n",
       "    <tr>\n",
       "      <th>T-test</th>\n",
       "      <td>-1.679</td>\n",
       "      <td>72.49</td>\n",
       "      <td>two-sided</td>\n",
       "      <td>0.097</td>\n",
       "      <td>[-0.41, 0.03]</td>\n",
       "      <td>0.31</td>\n",
       "      <td>0.725</td>\n",
       "      <td>0.348</td>\n",
       "    </tr>\n",
       "  </tbody>\n",
       "</table>\n",
       "</div>"
      ],
      "text/plain": [
       "            T    dof       tail  p-val          CI95%  cohen-d   BF10  power\n",
       "T-test -1.679  72.49  two-sided  0.097  [-0.41, 0.03]     0.31  0.725  0.348"
      ]
     },
     "metadata": {},
     "output_type": "display_data"
    },
    {
     "data": {
      "text/html": [
       "<div>\n",
       "<style scoped>\n",
       "    .dataframe tbody tr th:only-of-type {\n",
       "        vertical-align: middle;\n",
       "    }\n",
       "\n",
       "    .dataframe tbody tr th {\n",
       "        vertical-align: top;\n",
       "    }\n",
       "\n",
       "    .dataframe thead th {\n",
       "        text-align: right;\n",
       "    }\n",
       "</style>\n",
       "<table border=\"1\" class=\"dataframe\">\n",
       "  <thead>\n",
       "    <tr style=\"text-align: right;\">\n",
       "      <th></th>\n",
       "      <th>T</th>\n",
       "      <th>dof</th>\n",
       "      <th>tail</th>\n",
       "      <th>p-val</th>\n",
       "      <th>CI95%</th>\n",
       "      <th>cohen-d</th>\n",
       "      <th>BF10</th>\n",
       "      <th>power</th>\n",
       "    </tr>\n",
       "  </thead>\n",
       "  <tbody>\n",
       "    <tr>\n",
       "      <th>T-test</th>\n",
       "      <td>-3.456</td>\n",
       "      <td>82.51</td>\n",
       "      <td>two-sided</td>\n",
       "      <td>0.001</td>\n",
       "      <td>[-0.67, -0.18]</td>\n",
       "      <td>0.604</td>\n",
       "      <td>37.425</td>\n",
       "      <td>0.863</td>\n",
       "    </tr>\n",
       "  </tbody>\n",
       "</table>\n",
       "</div>"
      ],
      "text/plain": [
       "            T    dof       tail  p-val           CI95%  cohen-d    BF10  power\n",
       "T-test -3.456  82.51  two-sided  0.001  [-0.67, -0.18]    0.604  37.425  0.863"
      ]
     },
     "metadata": {},
     "output_type": "display_data"
    },
    {
     "data": {
      "text/html": [
       "<div>\n",
       "<style scoped>\n",
       "    .dataframe tbody tr th:only-of-type {\n",
       "        vertical-align: middle;\n",
       "    }\n",
       "\n",
       "    .dataframe tbody tr th {\n",
       "        vertical-align: top;\n",
       "    }\n",
       "\n",
       "    .dataframe thead th {\n",
       "        text-align: right;\n",
       "    }\n",
       "</style>\n",
       "<table border=\"1\" class=\"dataframe\">\n",
       "  <thead>\n",
       "    <tr style=\"text-align: right;\">\n",
       "      <th></th>\n",
       "      <th>T</th>\n",
       "      <th>dof</th>\n",
       "      <th>tail</th>\n",
       "      <th>p-val</th>\n",
       "      <th>CI95%</th>\n",
       "      <th>cohen-d</th>\n",
       "      <th>BF10</th>\n",
       "      <th>power</th>\n",
       "    </tr>\n",
       "  </thead>\n",
       "  <tbody>\n",
       "    <tr>\n",
       "      <th>T-test</th>\n",
       "      <td>-3.504</td>\n",
       "      <td>88.47</td>\n",
       "      <td>two-sided</td>\n",
       "      <td>0.001</td>\n",
       "      <td>[-0.56, -0.15]</td>\n",
       "      <td>0.596</td>\n",
       "      <td>43.113</td>\n",
       "      <td>0.854</td>\n",
       "    </tr>\n",
       "  </tbody>\n",
       "</table>\n",
       "</div>"
      ],
      "text/plain": [
       "            T    dof       tail  p-val           CI95%  cohen-d    BF10  power\n",
       "T-test -3.504  88.47  two-sided  0.001  [-0.56, -0.15]    0.596  43.113  0.854"
      ]
     },
     "metadata": {},
     "output_type": "display_data"
    },
    {
     "name": "stdout",
     "output_type": "stream",
     "text": [
      "Bonferonni adjusted p-vals: [0.011 0.39  0.003 0.003]\n",
      "\n",
      "Correlation within each roi= [0.78322169 0.77330275 0.81378934 0.78510602]\n",
      "MAE within each roi= [1.02287739 1.22178369 1.02205485 0.98208673]\n",
      "MAPE within each roi= [ 144.27975595  391.05931329 1204.0853627   306.65412202]\n",
      "Rsqr within each roi= [0.60979724 0.55404085 0.65859907 0.60052566]\n"
     ]
    }
   ],
   "source": [
    "# between groups t-test, FDR corrected - replication of the original analysis\n",
    "x = np.mean(predicted_activity[task]['CTRL'][:,6:12,:],axis=1) - np.mean(predicted_activity[task]['CTRL'][:,0:6,:],axis=1)\n",
    "y = np.mean(predicted_activity[task]['SCHZ'][:,6:12,:],axis=1) - np.mean(predicted_activity[task]['SCHZ'][:,0:6,:],axis=1)\n",
    "\n",
    "p = []\n",
    "for roi in roi_list:\n",
    "    res = pg.ttest(x[roi,:],y[roi,:])\n",
    "    display(res.round(3))\n",
    "    p.append(res['p-val'].values[0])\n",
    "\n",
    "h,padj,_,_ = multipletests(np.array(p),method='bonferroni')\n",
    "print('Bonferonni adjusted p-vals:',np.round(padj,3))\n",
    "print('')\n",
    "\n",
    "# test accuracy within each roi\n",
    "r,MAE,MAPE,Rsqr = mf.roi_level_accuracy(activity,predicted_activity,roi_list)\n",
    "print('Correlation within each roi=',r)\n",
    "print('MAE within each roi=',MAE)\n",
    "print('MAPE within each roi=',MAPE)\n",
    "print('Rsqr within each roi=',Rsqr)\n",
    "\n",
    "df_roi_metrics = pd.DataFrame()\n",
    "df_roi_metrics['actflow-full'] = r\n",
    "df_roi_metrics['metric'] = 'r'"
   ]
  }
 ],
 "metadata": {
  "kernelspec": {
   "display_name": "Python 3",
   "language": "python",
   "name": "python3"
  },
  "language_info": {
   "codemirror_mode": {
    "name": "ipython",
    "version": 3
   },
   "file_extension": ".py",
   "mimetype": "text/x-python",
   "name": "python",
   "nbconvert_exporter": "python",
   "pygments_lexer": "ipython3",
   "version": "3.7.3"
  }
 },
 "nbformat": 4,
 "nbformat_minor": 2
}
