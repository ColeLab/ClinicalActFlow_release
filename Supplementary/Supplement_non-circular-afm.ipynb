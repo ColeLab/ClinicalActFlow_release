{
 "cells": [
  {
   "cell_type": "markdown",
   "metadata": {},
   "source": [
    "# Non circular supplementary analysis\n",
    "Replicate main results using the \"non-circular\" activity flow method"
   ]
  },
  {
   "cell_type": "code",
   "execution_count": 25,
   "metadata": {},
   "outputs": [],
   "source": [
    "import ActflowToolbox as aft\n",
    "import h5py\n",
    "import pkg_resources\n",
    "import numpy as np\n",
    "import pandas as pd\n",
    "import pickle\n",
    "import time\n",
    "import functions as mf # my functions\n",
    "from scipy import stats\n",
    "import pingouin as pg\n",
    "import matplotlib.pyplot as plt\n",
    "import seaborn as sns\n",
    "#from statsmodels.stats.multitest import multipletests\n",
    "\n",
    "## global variables\n",
    "# parcellation\n",
    "PARC = 'cabn'\n",
    "\n",
    "# subjects\n",
    "subj_df = pd.read_csv('subject_list.txt', sep='\\t', index_col = 0, header = 0)\n",
    "subj_list = subj_df.index\n",
    "\n",
    "# out directories\n",
    "results_dir = '/projects/f_mc1689_1/ClinicalActFlow/data/results/non-circ/'\n",
    "figure_dir = '/projects/f_mc1689_1/ClinicalActFlow/docs/figures/non-circ/'\n",
    "\n",
    "# which connectivity type to use\n",
    "fc_task = 'multitask-no-scap'\n",
    "fc_method = 'pc_multregconn_100'\n",
    "\n",
    "# task to analyze\n",
    "task = 'scap'\n",
    "\n",
    "# groups to analyze\n",
    "groups = ['CTRL','SCHZ']"
   ]
  },
  {
   "cell_type": "code",
   "execution_count": 2,
   "metadata": {},
   "outputs": [],
   "source": [
    "from scipy import signal\n",
    "PARC = 'cabn'\n",
    "OUTPUT_DIR = '/projects/f_mc1689_1/ClinicalActFlow/data/prepro/Output_'+PARC+'/'\n",
    "task_list = ['rest','taskswitch','bart','stopsignal']\n",
    "model_task ='24pXaCompCorXVolterra'\n",
    "model_rest = '24pXaCompCorXVolterra-spikeReg'\n",
    "zscore=False\n",
    "\n",
    "def get_multi_timeseries(subj):\n",
    "\n",
    "\n",
    "    h5f = h5py.File(OUTPUT_DIR + subj + '_GLMOutput.h5','r')\n",
    "    data = np.zeros((718,1))\n",
    "    \n",
    "    for task in task_list:\n",
    "\n",
    "        # get the right nuisance model\n",
    "        if task == 'rest':\n",
    "            model = model_rest\n",
    "        else:\n",
    "            model = model_task\n",
    "\n",
    "        # load the data\n",
    "        if task == 'rest':\n",
    "            # load residuals from specific parcellation\n",
    "            current_data = h5f[task]['nuisanceReg_resid_'+model][:].copy()\n",
    "        else:\n",
    "            # get FIR data residuals\n",
    "            current_data = h5f[task]['FIR']['taskActivity_resid_'+model][:].copy()\n",
    "\n",
    "        # demean data\n",
    "        current_data = signal.detrend(current_data,axis=0,type='constant')\n",
    "\n",
    "        # zscore data\n",
    "        if zscore:\n",
    "            current_data = stats.zscore(current_data,axis=0)\n",
    "\n",
    "        # concatenate data\n",
    "        data = np.hstack((data,current_data.T))\n",
    "    h5f.close()\n",
    "\n",
    "    # remove the initial zero col\n",
    "    data = np.delete(data,0,axis=1)\n",
    "    \n",
    "    return data"
   ]
  },
  {
   "cell_type": "markdown",
   "metadata": {},
   "source": [
    "# Non circular activity flow\n",
    "see https://colelab.github.io/ActflowToolbox/HCP_example.html"
   ]
  },
  {
   "cell_type": "code",
   "execution_count": 3,
   "metadata": {},
   "outputs": [],
   "source": [
    "#Load dictionary listing which parcels to exclude for each target\n",
    "numnodes=718\n",
    "networkdefdir = pkg_resources.resource_filename('ActflowToolbox', 'network_definitions/')\n",
    "inputfilename = networkdefdir+'parcels_to_remove_indices_cortexsubcortex_data.h5'\n",
    "h5f = h5py.File(inputfilename,'r')\n",
    "parcels_to_remove={}\n",
    "for parcelInt in range(numnodes):\n",
    "    outname1 = 'parcels_to_remove_indices'+'/'+str(parcelInt)\n",
    "    parcels_to_remove[parcelInt] = h5f[outname1][:].copy()\n",
    "h5f.close()"
   ]
  },
  {
   "cell_type": "code",
   "execution_count": null,
   "metadata": {},
   "outputs": [],
   "source": [
    "run_non_circ = 0\n",
    "\n",
    "if run_non_circ:\n",
    "    #Calculate multiple-regression FC, excluding parcels within 10 mm of each target parcel\n",
    "    for s,subj in enumerate(subj_list[1:130]):\n",
    "        print(s,subj)\n",
    "        start = time.time()\n",
    "        data = get_multi_timeseries(subj)\n",
    "\n",
    "        fc=aft.connectivity_estimation.pc_multregconn(data,n_components=100,\n",
    "                                                                     parcelstoexclude_bytarget=parcels_to_remove)\n",
    "\n",
    "        # save data\n",
    "        h5f = h5py.File(results_dir + subj +'_non-circFC.h5','a')\n",
    "\n",
    "        try:\n",
    "            h5f.create_dataset('/fc',data=fc)\n",
    "        except:\n",
    "            del h5f['/fc']\n",
    "            h5f.create_dataset('/fc',data=fc)\n",
    "\n",
    "        h5f.close()\n",
    "    print('\\t',np.round((time.time() - start)/60),'minutes')\n",
    "\n",
    "else:\n",
    "    # load the SZ and HC data seperately\n",
    "    hc_fc = np.zeros((718,718,93))\n",
    "    for s,subj in enumerate(subj_list[0:93]):\n",
    "        h5f = h5py.File(results_dir + subj +'_non-circFC.h5','r')\n",
    "        hc_fc[:,:,s] = h5f['fc'][:]\n",
    "        h5f.close()\n",
    "        \n",
    "    sz_fc = np.zeros((718,718,36))\n",
    "    for s,subj in enumerate(subj_list[93:129]):\n",
    "        h5f = h5py.File(results_dir + subj +'_non-circFC.h5','r')\n",
    "        sz_fc[:,:,s] = h5f['fc'][:]\n",
    "        h5f.close()"
   ]
  },
  {
   "cell_type": "code",
   "execution_count": 13,
   "metadata": {},
   "outputs": [
    {
     "name": "stdout",
     "output_type": "stream",
     "text": [
      "Task| scap Data loaded: 100.0 %\n"
     ]
    }
   ],
   "source": [
    "# load the data\n",
    "# behav\n",
    "accuracy,reaction_time,_,_,task_labels = mf.load_scan_behaviour(subj_df.index,[task],subj_df['group'].values)\n",
    "\n",
    "# activity\n",
    "activity,activity_all = mf.load_activity(subj_df,PARC=PARC,TASKS=[task])\n",
    "n_roi = activity['scap']['CTRL'].shape[0]"
   ]
  },
  {
   "cell_type": "markdown",
   "metadata": {},
   "source": [
    "# Run activity flow using the non-circular FC (with actflow toolbox)"
   ]
  },
  {
   "cell_type": "code",
   "execution_count": 18,
   "metadata": {},
   "outputs": [
    {
     "name": "stdout",
     "output_type": "stream",
     "text": [
      "===Comparing prediction accuracies between models (similarity between predicted and actual brain activation patterns)===\n",
      " \n",
      "==Comparisons between predicted and actual activation patterns, across all conditions and nodes:==\n",
      "--Compare-then-average (calculating prediction accuracies before cross-subject averaging):\n",
      "Each comparison based on 12 conditions across 718 nodes, p-values based on 93 subjects (cross-subject variance in comparisons)\n",
      " \n",
      "Mean Pearson r = 0.62, t-value vs. 0: 51.27, p-value vs. 0: 1.8461443018835847e-69\n",
      " \n",
      "Mean % variance explained (R^2 score, coeff. of determination) = 0.36\n",
      " \n",
      "Mean MAE (mean absolute error) = 1.55\n",
      " \n",
      "Note: Pearson r and Pearson r^2 are scale-invariant, while R^2 and MAE are not. R^2 units: percentage of the to-be-predicted data's unscaled variance, ranging from negative infinity (because prediction errors can be arbitrarily large) to positive 1. See https://scikit-learn.org/stable/modules/generated/sklearn.metrics.r2_score.html for more info.\n"
     ]
    }
   ],
   "source": [
    "# run activity flow using toolbox\n",
    "res = aft.actflowcomp.actflowtest(activity['scap']['CTRL'], hc_fc)"
   ]
  },
  {
   "cell_type": "code",
   "execution_count": null,
   "metadata": {},
   "outputs": [],
   "source": [
    "# run activity flow using toolbox\n",
    "res = aft.actflowcomp.actflowtest(activity['scap']['SCHZ'], sz_fc)"
   ]
  },
  {
   "cell_type": "markdown",
   "metadata": {},
   "source": [
    "# Run using my commands\n",
    "(holding out other significant regions from the analysis)"
   ]
  },
  {
   "cell_type": "code",
   "execution_count": 19,
   "metadata": {},
   "outputs": [
    {
     "name": "stdout",
     "output_type": "stream",
     "text": [
      "Running act flow in CTRL\n",
      "Running act flow in SCHZ\n"
     ]
    }
   ],
   "source": [
    "# generate activity flow predictions seperately in each group holding out certain roi\n",
    "roi_list = [56, 181, 284, 346] \n",
    "\n",
    "task = 'scap'\n",
    "af_file = 'actflow-' + fc_task + '-' + fc_method + '.pickle'\n",
    "\n",
    "predicted_activity = {}\n",
    "predicted_activity[task] = {}\n",
    "actFlowWeights = {}\n",
    "actFlowWeights[task] = {}\n",
    "\n",
    "for group in ['CTRL','SCHZ']:\n",
    "    print('Running act flow in',group)\n",
    "    \n",
    "    # use non circular fc\n",
    "    if group == 'CTRL':\n",
    "        fc_data = hc_fc\n",
    "    elif group =='SCHZ':\n",
    "        fc_data = sz_fc\n",
    "        \n",
    "    actPredVector = np.zeros((np.shape(activity[task][group])))\n",
    "    n_nodes =  np.shape(actPredVector)[0]\n",
    "    n_conditions = np.shape(actPredVector)[1]\n",
    "    n_subs = np.shape(actPredVector)[2]\n",
    "    act_weights_mat = np.zeros((n_nodes,n_nodes,n_conditions,n_subs))\n",
    "\n",
    "    for condition in range(n_conditions):\n",
    "        act_data = activity[task][group][:,condition,:].copy()\n",
    "\n",
    "        for subj in range(np.shape(fc_data)[2]):\n",
    "            actPredVector[:,condition,subj],act_weights_mat[:,:,condition,subj] = mf.actflowcalc_hold_out_roi(act_data[:,subj],fc_data[:,:,subj],held_out_roi=roi_list)\n",
    "\n",
    "    predicted_activity[task][group] = actPredVector\n",
    "    actFlowWeights[task][group] = act_weights_mat\n",
    "    "
   ]
  },
  {
   "cell_type": "code",
   "execution_count": 20,
   "metadata": {},
   "outputs": [
    {
     "name": "stdout",
     "output_type": "stream",
     "text": [
      "Mean r across subjs: 0.532 |1samp t: 37.25 p: 0.0\n",
      "Mean MAE  across subjs: 0.666\n",
      "Mean MAPE  across subjs: 374.834\n",
      "Mean R^2  across subjs: 0.268 |1samp t: 15.07 p: 0.0\n",
      "Mean r across subjs: 0.478 |1samp t: 17.78 p: 0.0\n",
      "Mean MAE  across subjs: 0.654\n",
      "Mean MAPE  across subjs: 435.535\n",
      "Mean R^2  across subjs: 0.192 |1samp t: 5.0 p: 2e-05\n",
      "between groups: r t-test\n",
      "\t Ttest_indResult(statistic=1.7839517173364465, pvalue=0.0798628068945824)\n",
      "between groups: MAE t-test\n",
      "\t Ttest_indResult(statistic=0.4680858318212692, pvalue=0.6417684683385267)\n",
      "between groups: Rsqr t-test\n",
      "\t Ttest_indResult(statistic=1.7899950574576495, pvalue=0.0794263596753079)\n"
     ]
    }
   ],
   "source": [
    "from scipy.stats import ttest_ind\n",
    "# do stats on the activity flow predictions\n",
    "r = {}\n",
    "MAE = {}\n",
    "MAPE = {}\n",
    "Rsqr = {}\n",
    "for group in ['CTRL','SCHZ']:\n",
    "    # do the same contrast\n",
    "    real = np.mean(activity['scap'][group][:,6:12,:],axis=1) - np.mean(activity['scap'][group][:,0:6,:],axis=1)\n",
    "    pred = np.mean(predicted_activity['scap'][group][:,6:12,:],axis=1) - np.mean(predicted_activity['scap'][group][:,0:6,:],axis=1)\n",
    "    \n",
    "    # do actflow statistics\n",
    "    r[group] = []\n",
    "    MAE[group] = []\n",
    "    MAPE[group] = []\n",
    "    Rsqr[group] = []\n",
    "    r[group],rs,MAE[group],MAPE[group],Rsqr[group] = mf.actflow_tests(real,pred,normalise=False)\n",
    "    \n",
    "# compare the groups\n",
    "print('between groups: r t-test')\n",
    "print('\\t',ttest_ind(r['CTRL'],r['SCHZ'],equal_var=False))\n",
    "print('between groups: MAE t-test')\n",
    "print('\\t',ttest_ind(MAE['CTRL'],MAE['SCHZ'],equal_var=False))\n",
    "print('between groups: Rsqr t-test')\n",
    "print('\\t',ttest_ind(Rsqr['CTRL'],Rsqr['SCHZ'],equal_var=False))"
   ]
  },
  {
   "cell_type": "code",
   "execution_count": 23,
   "metadata": {},
   "outputs": [
    {
     "data": {
      "text/html": [
       "<div>\n",
       "<style scoped>\n",
       "    .dataframe tbody tr th:only-of-type {\n",
       "        vertical-align: middle;\n",
       "    }\n",
       "\n",
       "    .dataframe tbody tr th {\n",
       "        vertical-align: top;\n",
       "    }\n",
       "\n",
       "    .dataframe thead th {\n",
       "        text-align: right;\n",
       "    }\n",
       "</style>\n",
       "<table border=\"1\" class=\"dataframe\">\n",
       "  <thead>\n",
       "    <tr style=\"text-align: right;\">\n",
       "      <th></th>\n",
       "      <th>T</th>\n",
       "      <th>dof</th>\n",
       "      <th>tail</th>\n",
       "      <th>p-val</th>\n",
       "      <th>CI95%</th>\n",
       "      <th>cohen-d</th>\n",
       "      <th>BF10</th>\n",
       "      <th>power</th>\n",
       "    </tr>\n",
       "  </thead>\n",
       "  <tbody>\n",
       "    <tr>\n",
       "      <th>T-test</th>\n",
       "      <td>-2.958</td>\n",
       "      <td>95.13</td>\n",
       "      <td>two-sided</td>\n",
       "      <td>0.003905</td>\n",
       "      <td>[-0.53, -0.11]</td>\n",
       "      <td>0.488</td>\n",
       "      <td>9.592</td>\n",
       "      <td>0.695</td>\n",
       "    </tr>\n",
       "  </tbody>\n",
       "</table>\n",
       "</div>"
      ],
      "text/plain": [
       "            T    dof       tail     p-val           CI95%  cohen-d   BF10  \\\n",
       "T-test -2.958  95.13  two-sided  0.003905  [-0.53, -0.11]    0.488  9.592   \n",
       "\n",
       "        power  \n",
       "T-test  0.695  "
      ]
     },
     "metadata": {},
     "output_type": "display_data"
    },
    {
     "data": {
      "text/html": [
       "<div>\n",
       "<style scoped>\n",
       "    .dataframe tbody tr th:only-of-type {\n",
       "        vertical-align: middle;\n",
       "    }\n",
       "\n",
       "    .dataframe tbody tr th {\n",
       "        vertical-align: top;\n",
       "    }\n",
       "\n",
       "    .dataframe thead th {\n",
       "        text-align: right;\n",
       "    }\n",
       "</style>\n",
       "<table border=\"1\" class=\"dataframe\">\n",
       "  <thead>\n",
       "    <tr style=\"text-align: right;\">\n",
       "      <th></th>\n",
       "      <th>T</th>\n",
       "      <th>dof</th>\n",
       "      <th>tail</th>\n",
       "      <th>p-val</th>\n",
       "      <th>CI95%</th>\n",
       "      <th>cohen-d</th>\n",
       "      <th>BF10</th>\n",
       "      <th>power</th>\n",
       "    </tr>\n",
       "  </thead>\n",
       "  <tbody>\n",
       "    <tr>\n",
       "      <th>T-test</th>\n",
       "      <td>-1.329</td>\n",
       "      <td>75.21</td>\n",
       "      <td>two-sided</td>\n",
       "      <td>0.187817</td>\n",
       "      <td>[-0.35, 0.07]</td>\n",
       "      <td>0.242</td>\n",
       "      <td>0.455</td>\n",
       "      <td>0.231</td>\n",
       "    </tr>\n",
       "  </tbody>\n",
       "</table>\n",
       "</div>"
      ],
      "text/plain": [
       "            T    dof       tail     p-val          CI95%  cohen-d   BF10  \\\n",
       "T-test -1.329  75.21  two-sided  0.187817  [-0.35, 0.07]    0.242  0.455   \n",
       "\n",
       "        power  \n",
       "T-test  0.231  "
      ]
     },
     "metadata": {},
     "output_type": "display_data"
    },
    {
     "data": {
      "text/html": [
       "<div>\n",
       "<style scoped>\n",
       "    .dataframe tbody tr th:only-of-type {\n",
       "        vertical-align: middle;\n",
       "    }\n",
       "\n",
       "    .dataframe tbody tr th {\n",
       "        vertical-align: top;\n",
       "    }\n",
       "\n",
       "    .dataframe thead th {\n",
       "        text-align: right;\n",
       "    }\n",
       "</style>\n",
       "<table border=\"1\" class=\"dataframe\">\n",
       "  <thead>\n",
       "    <tr style=\"text-align: right;\">\n",
       "      <th></th>\n",
       "      <th>T</th>\n",
       "      <th>dof</th>\n",
       "      <th>tail</th>\n",
       "      <th>p-val</th>\n",
       "      <th>CI95%</th>\n",
       "      <th>cohen-d</th>\n",
       "      <th>BF10</th>\n",
       "      <th>power</th>\n",
       "    </tr>\n",
       "  </thead>\n",
       "  <tbody>\n",
       "    <tr>\n",
       "      <th>T-test</th>\n",
       "      <td>-3.311</td>\n",
       "      <td>84.92</td>\n",
       "      <td>two-sided</td>\n",
       "      <td>0.001365</td>\n",
       "      <td>[-0.6, -0.15]</td>\n",
       "      <td>0.572</td>\n",
       "      <td>24.717</td>\n",
       "      <td>0.825</td>\n",
       "    </tr>\n",
       "  </tbody>\n",
       "</table>\n",
       "</div>"
      ],
      "text/plain": [
       "            T    dof       tail     p-val          CI95%  cohen-d    BF10  \\\n",
       "T-test -3.311  84.92  two-sided  0.001365  [-0.6, -0.15]    0.572  24.717   \n",
       "\n",
       "        power  \n",
       "T-test  0.825  "
      ]
     },
     "metadata": {},
     "output_type": "display_data"
    },
    {
     "data": {
      "text/html": [
       "<div>\n",
       "<style scoped>\n",
       "    .dataframe tbody tr th:only-of-type {\n",
       "        vertical-align: middle;\n",
       "    }\n",
       "\n",
       "    .dataframe tbody tr th {\n",
       "        vertical-align: top;\n",
       "    }\n",
       "\n",
       "    .dataframe thead th {\n",
       "        text-align: right;\n",
       "    }\n",
       "</style>\n",
       "<table border=\"1\" class=\"dataframe\">\n",
       "  <thead>\n",
       "    <tr style=\"text-align: right;\">\n",
       "      <th></th>\n",
       "      <th>T</th>\n",
       "      <th>dof</th>\n",
       "      <th>tail</th>\n",
       "      <th>p-val</th>\n",
       "      <th>CI95%</th>\n",
       "      <th>cohen-d</th>\n",
       "      <th>BF10</th>\n",
       "      <th>power</th>\n",
       "    </tr>\n",
       "  </thead>\n",
       "  <tbody>\n",
       "    <tr>\n",
       "      <th>T-test</th>\n",
       "      <td>-3.253</td>\n",
       "      <td>85.68</td>\n",
       "      <td>two-sided</td>\n",
       "      <td>0.001635</td>\n",
       "      <td>[-0.52, -0.13]</td>\n",
       "      <td>0.56</td>\n",
       "      <td>21.001</td>\n",
       "      <td>0.809</td>\n",
       "    </tr>\n",
       "  </tbody>\n",
       "</table>\n",
       "</div>"
      ],
      "text/plain": [
       "            T    dof       tail     p-val           CI95%  cohen-d    BF10  \\\n",
       "T-test -3.253  85.68  two-sided  0.001635  [-0.52, -0.13]     0.56  21.001   \n",
       "\n",
       "        power  \n",
       "T-test  0.809  "
      ]
     },
     "metadata": {},
     "output_type": "display_data"
    },
    {
     "name": "stdout",
     "output_type": "stream",
     "text": [
      "Correlation within each roi= [0.7708185  0.73923791 0.79533881 0.76835503]\n",
      "MAE within each roi= [1.0408612  1.3286347  1.0789198  1.02042591]\n",
      "MAPE within each roi= [ 154.32097321  314.17866835 1020.63380047  288.87159508]\n",
      "Rsqr within each roi= [0.59341648 0.48409295 0.6308455  0.57342913]\n"
     ]
    }
   ],
   "source": [
    "# between groups t-test, FDR corrected - replication of the original analysis\n",
    "x = np.mean(predicted_activity[task]['CTRL'][:,6:12,:],axis=1) - np.mean(predicted_activity[task]['CTRL'][:,0:6,:],axis=1)\n",
    "y = np.mean(predicted_activity[task]['SCHZ'][:,6:12,:],axis=1) - np.mean(predicted_activity[task]['SCHZ'][:,0:6,:],axis=1)\n",
    "\n",
    "for roi in roi_list:\n",
    "    display(pg.ttest(x[roi,:],y[roi,:]))\n",
    "\n",
    "# test accuracy within each roi\n",
    "r,MAE,MAPE,Rsqr = mf.roi_level_accuracy(activity,predicted_activity,roi_list)\n",
    "print('Correlation within each roi=',r)\n",
    "print('MAE within each roi=',MAE)\n",
    "print('MAPE within each roi=',MAPE)\n",
    "print('Rsqr within each roi=',Rsqr)\n",
    "\n",
    "df_roi_metrics = pd.DataFrame()\n",
    "df_roi_metrics['actflow-full'] = r\n",
    "df_roi_metrics['metric'] = 'r'"
   ]
  },
  {
   "cell_type": "markdown",
   "metadata": {},
   "source": [
    "# Plots"
   ]
  },
  {
   "cell_type": "code",
   "execution_count": 29,
   "metadata": {},
   "outputs": [
    {
     "data": {
      "image/png": "[encoded data removed]",
      "text/plain": [
       "<Figure size 144x216 with 5 Axes>"
      ]
     },
     "metadata": {},
     "output_type": "display_data"
    }
   ],
   "source": [
    "# plot the avg betas\n",
    "network_order,network_cols,network_def,networks = mf.get_network_info(PARC,subcortical_split=True)\n",
    "ax_count = 0\n",
    "fig, axn = plt.subplots(1, 4, sharex=True, sharey=True, figsize=[2,3])\n",
    "\n",
    "for group in ['CTRL','SCHZ']:\n",
    "    # do the same contrast\n",
    "    real = np.mean(activity['scap'][group][:,6:12,:],axis=1) - np.mean(activity['scap'][group][:,0:6,:],axis=1)\n",
    "    pred = np.mean(predicted_activity['scap'][group][:,6:12,:],axis=1) - np.mean(predicted_activity['scap'][group][:,0:6,:],axis=1)\n",
    "    \n",
    "    # do the plot\n",
    "    datamin = -1.5\n",
    "    datamax = 2\n",
    "    data1 = np.mean(real,axis=1)\n",
    "    data1 = data1[network_order]\n",
    "\n",
    "    data2 = np.mean(pred,axis=1)\n",
    "    data2 = data2[network_order]\n",
    "    \n",
    "\n",
    "    ax1 = sns.heatmap(data1,ax=axn[ax_count],center=0,cmap='bwr',cbar=False,yticklabels=[],xticklabels=[],vmin=datamin,vmax=datamax)\n",
    "    ax1.title.set_text('Real')\n",
    "    ax_count = ax_count+1\n",
    "    \n",
    "    if ax_count==3:\n",
    "        cbar_ax = fig.add_axes([0.93, .15, .05, .68])\n",
    "        ax2 = sns.heatmap(data2,ax=axn[ax_count],center=0,cmap='bwr',cbar=True,yticklabels=[],xticklabels=[],vmin=datamin,vmax=datamax,\n",
    "                      cbar_ax=cbar_ax,cbar_kws={'label': 'Activation (beta)'})\n",
    "    else:\n",
    "        ax2 = sns.heatmap(data2,ax=axn[ax_count],center=0,cmap='bwr',cbar=False,yticklabels=[],xticklabels=[],vmin=datamin,vmax=datamax)\n",
    "    \n",
    "    ax2.title.set_text('Pred.')\n",
    "    ax_count = ax_count+1\n",
    "    \n",
    "plt.savefig(figure_dir+'ActFlow-wholebrain-avg-comp.jpeg')\n",
    "plt.savefig(figure_dir+'ActFlow-wholebrain-avg-comp.svg')"
   ]
  },
  {
   "cell_type": "code",
   "execution_count": 36,
   "metadata": {},
   "outputs": [
    {
     "data": {
      "image/png": "[encoded data removed]",
      "text/plain": [
       "<Figure size 170.079x113.386 with 1 Axes>"
      ]
     },
     "metadata": {},
     "output_type": "display_data"
    },
    {
     "data": {
      "image/png": "[encoded data removed]",
      "text/plain": [
       "<Figure size 170.079x113.386 with 1 Axes>"
      ]
     },
     "metadata": {},
     "output_type": "display_data"
    }
   ],
   "source": [
    "PAL = sns.xkcd_palette(['grey','light orange'])\n",
    "\n",
    "def cm2inch(*tupl):\n",
    "    inch = 2.54\n",
    "    if isinstance(tupl[0], tuple):\n",
    "        return tuple(i/inch for i in tupl[0])\n",
    "    else:\n",
    "        return tuple(i/inch for i in tupl)\n",
    "\n",
    "df_plot = pd.DataFrame()\n",
    "for roi in roi_list:\n",
    "    for group in ['CTRL','SCHZ']:\n",
    "        df = pd.DataFrame()\n",
    "        df['Activity'] = np.mean(activity[task][group][roi,6:12,:],axis=0) - np.mean(activity[task][group][roi,0:6,:],axis=0)\n",
    "        df['Group'] = group\n",
    "        df['Roi'] = roi\n",
    "        df_plot = pd.concat([df_plot,df])\n",
    "        \n",
    "plt.figure(figsize=cm2inch(6.0,4.0))      \n",
    "g = sns.boxplot(y='Activity',x='Roi',hue='Group',data=df_plot,palette=PAL,linewidth=0.5,fliersize=0,whis=0,zorder=1)\n",
    "sns.swarmplot(y='Activity',x='Roi',hue='Group',data=df_plot,size=2,palette=PAL,dodge=True,zorder=0,alpha=0.5)\n",
    "sns.despine()\n",
    "plt.savefig(figure_dir+'GLM_roi-real.jpeg',dpi=600)\n",
    "plt.savefig(figure_dir+'GLM_roi-real.svg',dpi=600)\n",
    "    \n",
    "df_plot = pd.DataFrame()\n",
    "for roi in roi_list:\n",
    "    for group in ['CTRL','SCHZ']:\n",
    "        df = pd.DataFrame()\n",
    "        df['Activity'] = np.mean(predicted_activity[task][group][roi,6:12,:],axis=0) - np.mean(predicted_activity[task][group][roi,0:6,:],axis=0)\n",
    "        df['Group'] = group\n",
    "        df['Roi'] = roi\n",
    "        df_plot = pd.concat([df_plot,df])\n",
    "        \n",
    "plt.figure(figsize=cm2inch(6.0,4.0))      \n",
    "g = sns.boxplot(y='Activity',x='Roi',hue='Group',data=df_plot,palette=PAL,linewidth=0.5,fliersize=0,whis=0,zorder=1)\n",
    "sns.swarmplot(y='Activity',x='Roi',hue='Group',data=df_plot,size=2,palette=PAL,dodge=True,zorder=0,alpha=0.5)\n",
    "sns.despine()\n",
    "plt.savefig(figure_dir+'GLM_roi-pred.jpeg',dpi=600)\n",
    "plt.savefig(figure_dir+'GLM_roi-pred.svg',dpi=600)"
   ]
  }
 ],
 "metadata": {
  "kernelspec": {
   "display_name": "Python 3",
   "language": "python",
   "name": "python3"
  },
  "language_info": {
   "codemirror_mode": {
    "name": "ipython",
    "version": 3
   },
   "file_extension": ".py",
   "mimetype": "text/x-python",
   "name": "python",
   "nbconvert_exporter": "python",
   "pygments_lexer": "ipython3",
   "version": "3.7.3"
  }
 },
 "nbformat": 4,
 "nbformat_minor": 2
}
