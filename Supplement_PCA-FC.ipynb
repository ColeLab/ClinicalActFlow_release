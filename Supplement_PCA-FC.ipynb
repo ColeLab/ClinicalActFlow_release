{
 "cells": [
  {
   "cell_type": "markdown",
   "metadata": {},
   "source": [
    "# PCA regression comparison\n",
    "Supplementary analysis where we included different PCA sizes in the FC calculation"
   ]
  },
  {
   "cell_type": "code",
   "execution_count": 36,
   "metadata": {},
   "outputs": [],
   "source": [
    "import pandas as pd\n",
    "import numpy as np\n",
    "import h5py\n",
    "import seaborn as sns\n",
    "import matplotlib.pyplot as plt\n",
    "from scipy.stats import ttest_ind\n",
    "import functions as mf # my functions\n",
    "import pingouin as pg\n",
    "\n",
    "#from scipy import stats\n",
    "\n",
    "#from statsmodels.stats.multitest import multipletests\n",
    "\n",
    "## global variables\n",
    "\n",
    "# parcellation\n",
    "PARC = 'cabn'\n",
    "\n",
    "# subjects\n",
    "subj_df = pd.read_csv('subject_list.txt', sep='\\t', index_col = 0, header = 0)\n",
    "subj_list = subj_df.index\n",
    "\n",
    "results_dir = '/projects/f_mc1689_1/ClinicalActFlow/data/results/PCA-reg/'\n",
    "figure_dir = '/projects/f_mc1689_1/ClinicalActFlow/docs/figures/PCA-reg/'\n",
    "# task to analyze\n",
    "task = 'scap'"
   ]
  },
  {
   "cell_type": "code",
   "execution_count": 2,
   "metadata": {},
   "outputs": [],
   "source": [
    "# load the data\n",
    "component_list = [50,100,150,200,250,300]\n",
    "\n",
    "# load the FC data\n",
    "fc = np.zeros((718,718,6,129))\n",
    "var = np.zeros((6,129))\n",
    "for s,subj in enumerate(subj_list[0:129]):\n",
    "    try:\n",
    "        h5f = h5py.File(results_dir + subj +'PCA-reg.h5','r')\n",
    "        fc[:,:,:,s] = h5f['fc'][:]\n",
    "        var[:,s] = np.mean(h5f['variance'][:],axis=0)\n",
    "        h5f.close()\n",
    "    except:\n",
    "        print(s,subj)"
   ]
  },
  {
   "cell_type": "code",
   "execution_count": 3,
   "metadata": {},
   "outputs": [],
   "source": [
    "# correlate upper FC triangle within subject\n",
    "corr_mat = np.zeros((6,6,fc.shape[3]))\n",
    "for s in range(fc.shape[3]):\n",
    "    data = np.zeros((257403,6))\n",
    "    for comp in range(6):\n",
    "        tmp = fc[:,:,comp,s]\n",
    "        idx = np.triu(np.ones(np.shape(tmp)),k=1)\n",
    "        data[:,comp] = tmp[idx==1]\n",
    "    corr_mat[:,:,s] = np.corrcoef(data.T)"
   ]
  },
  {
   "cell_type": "code",
   "execution_count": 4,
   "metadata": {},
   "outputs": [
    {
     "data": {
      "text/plain": [
       "<matplotlib.colorbar.Colorbar at 0x7f935730bb00>"
      ]
     },
     "execution_count": 4,
     "metadata": {},
     "output_type": "execute_result"
    },
    {
     "data": {
      "image/png": "[encoded data removed]",
      "text/plain": [
       "<Figure size 432x288 with 2 Axes>"
      ]
     },
     "metadata": {
      "needs_background": "light"
     },
     "output_type": "display_data"
    }
   ],
   "source": [
    "plt.imshow(np.mean(corr_mat,axis=2))\n",
    "plt.colorbar()"
   ]
  },
  {
   "cell_type": "markdown",
   "metadata": {},
   "source": [
    "# Calculate activity flow accuracy across all component sizes"
   ]
  },
  {
   "cell_type": "code",
   "execution_count": 5,
   "metadata": {},
   "outputs": [
    {
     "name": "stdout",
     "output_type": "stream",
     "text": [
      "Task| scap Data loaded: 100.0 %\n"
     ]
    }
   ],
   "source": [
    "# activity\n",
    "activity,activity_all = mf.load_activity(subj_df,PARC=PARC,TASKS=[task])\n",
    "n_roi = activity['scap']['CTRL'].shape[0]"
   ]
  },
  {
   "cell_type": "code",
   "execution_count": 7,
   "metadata": {},
   "outputs": [
    {
     "name": "stdout",
     "output_type": "stream",
     "text": [
      "0\n",
      "Running act flow in CTRL\n",
      "Running act flow in SCHZ\n",
      "Mean r across subjs: 0.604 |1samp t: 52.82 p: 0.0\n",
      "Mean MAE  across subjs: 0.638\n",
      "Mean MAPE  across subjs: 386.403\n",
      "Mean R^2  across subjs: 0.371 |1samp t: 25.51 p: 0.0\n",
      "Mean r across subjs: 0.571 |1samp t: 25.44 p: 0.0\n",
      "Mean MAE  across subjs: 0.619\n",
      "Mean MAPE  across subjs: 449.522\n",
      "Mean R^2  across subjs: 0.333 |1samp t: 12.04 p: 0.0\n",
      "1\n",
      "Running act flow in CTRL\n",
      "Running act flow in SCHZ\n",
      "Mean r across subjs: 0.63 |1samp t: 56.79 p: 0.0\n",
      "Mean MAE  across subjs: 0.62\n",
      "Mean MAPE  across subjs: 371.684\n",
      "Mean R^2  across subjs: 0.393 |1samp t: 25.98 p: 0.0\n",
      "Mean r across subjs: 0.598 |1samp t: 30.36 p: 0.0\n",
      "Mean MAE  across subjs: 0.607\n",
      "Mean MAPE  across subjs: 491.905\n",
      "Mean R^2  across subjs: 0.35 |1samp t: 13.03 p: 0.0\n",
      "2\n",
      "Running act flow in CTRL\n",
      "Running act flow in SCHZ\n",
      "Mean r across subjs: 0.638 |1samp t: 57.17 p: 0.0\n",
      "Mean MAE  across subjs: 0.617\n",
      "Mean MAPE  across subjs: 386.577\n",
      "Mean R^2  across subjs: 0.389 |1samp t: 23.53 p: 0.0\n",
      "Mean r across subjs: 0.608 |1samp t: 32.58 p: 0.0\n",
      "Mean MAE  across subjs: 0.604\n",
      "Mean MAPE  across subjs: 394.462\n",
      "Mean R^2  across subjs: 0.347 |1samp t: 12.79 p: 0.0\n",
      "3\n",
      "Running act flow in CTRL\n",
      "Running act flow in SCHZ\n",
      "Mean r across subjs: 0.636 |1samp t: 57.14 p: 0.0\n",
      "Mean MAE  across subjs: 0.624\n",
      "Mean MAPE  across subjs: 412.74\n",
      "Mean R^2  across subjs: 0.363 |1samp t: 19.87 p: 0.0\n",
      "Mean r across subjs: 0.596 |1samp t: 29.72 p: 0.0\n",
      "Mean MAE  across subjs: 0.616\n",
      "Mean MAPE  across subjs: 471.011\n",
      "Mean R^2  across subjs: 0.3 |1samp t: 9.43 p: 0.0\n",
      "4\n",
      "Running act flow in CTRL\n",
      "Running act flow in SCHZ\n",
      "Mean r across subjs: 0.625 |1samp t: 58.25 p: 0.0\n",
      "Mean MAE  across subjs: 0.642\n",
      "Mean MAPE  across subjs: 464.46\n",
      "Mean R^2  across subjs: 0.316 |1samp t: 16.99 p: 0.0\n",
      "Mean r across subjs: 0.584 |1samp t: 29.62 p: 0.0\n",
      "Mean MAE  across subjs: 0.633\n",
      "Mean MAPE  across subjs: 478.717\n",
      "Mean R^2  across subjs: 0.245 |1samp t: 7.13 p: 0.0\n",
      "5\n",
      "Running act flow in CTRL\n",
      "Running act flow in SCHZ\n",
      "Mean r across subjs: 0.602 |1samp t: 54.94 p: 0.0\n",
      "Mean MAE  across subjs: 0.672\n",
      "Mean MAPE  across subjs: 552.139\n",
      "Mean R^2  across subjs: 0.234 |1samp t: 10.82 p: 0.0\n",
      "Mean r across subjs: 0.569 |1samp t: 28.5 p: 0.0\n",
      "Mean MAE  across subjs: 0.662\n",
      "Mean MAPE  across subjs: 480.662\n",
      "Mean R^2  across subjs: 0.168 |1samp t: 4.14 p: 0.00021\n"
     ]
    }
   ],
   "source": [
    "# generate activity flow predictions seperately in each group holding out certain roi\n",
    "roi_list = [56, 181, 284, 346] \n",
    "df_results = pd.DataFrame()\n",
    "\n",
    "for comp in range(6):\n",
    "    print(comp)\n",
    "    predicted_activity = {}\n",
    "    predicted_activity[task] = {}\n",
    "    actFlowWeights = {}\n",
    "    actFlowWeights[task] = {}\n",
    "\n",
    "    for group in ['CTRL','SCHZ']:\n",
    "        print('Running act flow in',group)\n",
    "\n",
    "        # use non circular fc\n",
    "        if group == 'CTRL':\n",
    "            fc_data = fc[:,:,comp,0:93]\n",
    "        elif group =='SCHZ':\n",
    "            fc_data = fc[:,:,comp,93:129]\n",
    "\n",
    "        actPredVector = np.zeros((np.shape(activity[task][group])))\n",
    "        n_nodes =  np.shape(actPredVector)[0]\n",
    "        n_conditions = np.shape(actPredVector)[1]\n",
    "        n_subs = np.shape(actPredVector)[2]\n",
    "        act_weights_mat = np.zeros((n_nodes,n_nodes,n_conditions,n_subs))\n",
    "\n",
    "        for condition in range(n_conditions):\n",
    "            act_data = activity[task][group][:,condition,:].copy()\n",
    "\n",
    "            for subj in range(np.shape(fc_data)[2]):\n",
    "                actPredVector[:,condition,subj],act_weights_mat[:,:,condition,subj] = mf.actflowcalc_hold_out_roi(act_data[:,subj],fc_data[:,:,subj],held_out_roi=roi_list)\n",
    "\n",
    "        predicted_activity[task][group] = actPredVector\n",
    "        actFlowWeights[task][group] = act_weights_mat\n",
    "   \n",
    "    # do stats on the activity flow predictions\n",
    "    r = {}\n",
    "    MAE = {}\n",
    "    MAPE = {}\n",
    "    Rsqr = {}\n",
    "    for group in ['CTRL','SCHZ']:\n",
    "        # do the same contrast\n",
    "        real = np.mean(activity['scap'][group][:,6:12,:],axis=1) - np.mean(activity['scap'][group][:,0:6,:],axis=1)\n",
    "        pred = np.mean(predicted_activity['scap'][group][:,6:12,:],axis=1) - np.mean(predicted_activity['scap'][group][:,0:6,:],axis=1)\n",
    "\n",
    "        # do actflow statistics\n",
    "        r[group] = []\n",
    "        MAE[group] = []\n",
    "        MAPE[group] = []\n",
    "        Rsqr[group] = []\n",
    "        r[group],rs,MAE[group],MAPE[group],Rsqr[group] = mf.actflow_tests(real,pred,normalise=False)\n",
    "        \n",
    "        # save the results into big df\n",
    "        _df = pd.DataFrame()\n",
    "        _df['Components'] = [component_list[comp]]\n",
    "        _df['r-Avg'] = np.mean(r[group])\n",
    "        _df['Group'] = [group]\n",
    "        _df['MAE-Avg'] = np.mean(MAE[group])\n",
    "\n",
    "        df_results = pd.concat([df_results,_df])\n",
    "    \n",
    "#     # between groups t-test, FDR corrected - replication of the original analysis\n",
    "#     x = np.mean(predicted_activity[task]['CTRL'][:,6:12,:],axis=1) - np.mean(predicted_activity[task]['CTRL'][:,0:6,:],axis=1)\n",
    "#     y = np.mean(predicted_activity[task]['SCHZ'][:,6:12,:],axis=1) - np.mean(predicted_activity[task]['SCHZ'][:,0:6,:],axis=1)\n",
    "\n",
    "#     for roi in roi_list:\n",
    "#         display(pg.ttest(x[roi,:],y[roi,:]))"
   ]
  },
  {
   "cell_type": "markdown",
   "metadata": {},
   "source": [
    "# Plot"
   ]
  },
  {
   "cell_type": "code",
   "execution_count": 37,
   "metadata": {},
   "outputs": [
    {
     "data": {
      "image/png": "[encoded data removed]",
      "text/plain": [
       "<Figure size 432x288 with 2 Axes>"
      ]
     },
     "metadata": {
      "needs_background": "light"
     },
     "output_type": "display_data"
    }
   ],
   "source": [
    "plt.subplot(1,2,1)\n",
    "g = sns.scatterplot(x='Components',y='r-Avg',hue='Group',data=df_results,s=60)\n",
    "g.get_legend().set_visible(False)\n",
    "sns.despine()\n",
    "\n",
    "plt.subplot(1,2,2)\n",
    "g = sns.scatterplot(x='Components',y='MAE-Avg',hue='Group',data=df_results,s=60)\n",
    "g.get_legend().set_visible(False)\n",
    "sns.despine()\n",
    "plt.tight_layout()\n",
    "\n",
    "plt.savefig(figure_dir + 'PCA_comparisons.svg',dpi=600)\n",
    "plt.savefig(figure_dir + 'PCA_comparisons.jpeg',dpi=600)\n",
    "plt.show()"
   ]
  },
  {
   "cell_type": "code",
   "execution_count": null,
   "metadata": {},
   "outputs": [],
   "source": []
  }
 ],
 "metadata": {
  "kernelspec": {
   "display_name": "Python 3",
   "language": "python",
   "name": "python3"
  },
  "language_info": {
   "codemirror_mode": {
    "name": "ipython",
    "version": 3
   },
   "file_extension": ".py",
   "mimetype": "text/x-python",
   "name": "python",
   "nbconvert_exporter": "python",
   "pygments_lexer": "ipython3",
   "version": "3.7.3"
  }
 },
 "nbformat": 4,
 "nbformat_minor": 2
}
